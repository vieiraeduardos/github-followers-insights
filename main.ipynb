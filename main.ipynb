{
 "cells": [
  {
   "cell_type": "code",
   "execution_count": 12,
   "source": [
    "import requests"
   ],
   "outputs": [],
   "metadata": {}
  },
  {
   "cell_type": "code",
   "execution_count": 13,
   "source": [
    "def get_followers(username):\r\n",
    "    followers = requests.get(url=f\"https://api.github.com/users/{username}/followers\")\r\n",
    "\r\n",
    "    return followers.json()"
   ],
   "outputs": [],
   "metadata": {}
  },
  {
   "cell_type": "code",
   "execution_count": null,
   "source": [
    "def get_following(username):\r\n",
    "    following = requests.get(url=f\"https://api.github.com/users/{username}/following\")\r\n",
    "\r\n",
    "    return following.json()"
   ],
   "outputs": [],
   "metadata": {}
  }
 ],
 "metadata": {
  "orig_nbformat": 4,
  "language_info": {
   "name": "python",
   "version": "3.7.9",
   "mimetype": "text/x-python",
   "codemirror_mode": {
    "name": "ipython",
    "version": 3
   },
   "pygments_lexer": "ipython3",
   "nbconvert_exporter": "python",
   "file_extension": ".py"
  },
  "kernelspec": {
   "name": "python3",
   "display_name": "Python 3.7.9 64-bit"
  },
  "interpreter": {
   "hash": "0973d6013fea1e6f7f2f9c6aadc5d90f95a3cc4fae2d49d683c1580432583f3b"
  }
 },
 "nbformat": 4,
 "nbformat_minor": 2
}