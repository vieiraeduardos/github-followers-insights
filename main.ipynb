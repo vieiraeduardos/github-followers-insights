{
 "cells": [
  {
   "cell_type": "code",
   "execution_count": 12,
   "source": [
    "import requests"
   ],
   "outputs": [],
   "metadata": {}
  },
  {
   "cell_type": "code",
   "execution_count": 13,
   "source": [
    "def get_followers(username):\r\n",
    "    followers = requests.get(url=f\"https://api.github.com/users/{username}/followers\")\r\n",
    "\r\n",
    "    return followers.json()"
   ],
   "outputs": [],
   "metadata": {}
  },
  {
   "cell_type": "code",
   "execution_count": null,
   "source": [
    "def get_following(username):\r\n",
    "    following = requests.get(url=f\"https://api.github.com/users/{username}/following\")\r\n",
    "\r\n",
    "    return following.json()"
   ],
   "outputs": [],
   "metadata": {}
  },
  {
   "cell_type": "code",
   "execution_count": 24,
   "source": [
    "def get_users_dont_follow_back(followers, followings):\r\n",
    "    followers_logins = {follower[\"login\"] for follower in followers}\r\n",
    "    followings_logins = {following[\"login\"] for following in followings}\r\n",
    "\r\n",
    "    return list(set(followings_logins) - set(followers_logins))"
   ],
   "outputs": [],
   "metadata": {}
  },
  {
   "cell_type": "code",
   "execution_count": 31,
   "source": [
    "if __name__ == \"__main__\":\r\n",
    "    username = \"vieiraeduardos\"\r\n",
    "\r\n",
    "    followings = get_following(username)\r\n",
    "    followers = get_followers(username)\r\n",
    "\r\n",
    "    users = get_users_dont_follow_back(followers, followings)\r\n",
    "\r\n",
    "    print(\"List of users that follow you\")\r\n",
    "    print({follower[\"login\"] for follower in followers})\r\n",
    "\r\n",
    "    print(\"List of users that you follow\")\r\n",
    "    print({following[\"login\"] for following in followings})\r\n",
    "\r\n",
    "    print(\"List of users that don´t follow you back\")\r\n",
    "    print(users)"
   ],
   "outputs": [
    {
     "output_type": "stream",
     "name": "stdout",
     "text": [
      "List of users that follow you\n",
      "{'RafaelRani', 'Pedinpsy', 'andsfonseca', 'luisneto98', 'elheremes', 'Marcos-Costa', 'jesualdorsdm', 'Lukasdias', 'micaelgomes', 'jhonsef', 'ChristyellenSCL', 'arthursrr', 'fernandodojo', 'sjodiel', 'Jakiminski', 'sebastiaohns', 'ruemmai', 'alyssoncs', 'layanemenezes', 'rodolfoalves', 'jvitorfranca', 'DayvsonAlmeida', 'matheusboaro', 'danielsm', 'dudursn', 'rubekx', 'jeferson0993', 'guilhermeiablo', 'paulorcmendes', 'alfredots'}\n",
      "List of users that you follow\n",
      "{'Pedinpsy', 'elheremes', 'Marcos-Costa', 'guilhermesilveira', 'Lukasdias', 'alanlivio', 'micaelgomes', 'jhonsef', 'arthursrr', 'fernandodojo', 'sjodiel', 'JessicaCardoso', 'Jakiminski', 'sebastiaohns', 'ruemmai', 'alyssoncs', 'comunidadesoluises', 'antoniosobrinho', 'DayvsonAlmeida', 'Busson', 'matheusboaro', 'danielsm', 'arthurgsf', 'joficial', 'dudursn', 'rubekx', 'guilhermeiablo', 'paulorcmendes', 'rodrigogarces', 'alfredots'}\n",
      "List of users that don´t follow you back\n",
      "['alanlivio', 'comunidadesoluises', 'arthurgsf', 'JessicaCardoso', 'Busson', 'joficial', 'antoniosobrinho', 'guilhermesilveira', 'rodrigogarces']\n"
     ]
    }
   ],
   "metadata": {}
  }
 ],
 "metadata": {
  "orig_nbformat": 4,
  "language_info": {
   "name": "python",
   "version": "3.7.9",
   "mimetype": "text/x-python",
   "codemirror_mode": {
    "name": "ipython",
    "version": 3
   },
   "pygments_lexer": "ipython3",
   "nbconvert_exporter": "python",
   "file_extension": ".py"
  },
  "kernelspec": {
   "name": "python3",
   "display_name": "Python 3.7.9 64-bit"
  },
  "interpreter": {
   "hash": "0973d6013fea1e6f7f2f9c6aadc5d90f95a3cc4fae2d49d683c1580432583f3b"
  }
 },
 "nbformat": 4,
 "nbformat_minor": 2
}